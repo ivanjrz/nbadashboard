{
 "cells": [
  {
   "cell_type": "markdown",
   "metadata": {},
   "source": [
    "<h1>Modeling testbook</h1>"
   ]
  },
  {
   "cell_type": "code",
   "execution_count": 45,
   "metadata": {},
   "outputs": [],
   "source": [
    "## Latest and greatest sklearn\n",
    "# !pip install sklearn --upgrade\n",
    "## Dependencies for data preprocessing\n",
    "import pandas as pd\n",
    "from datetime import datetime as dt\n",
    "import numpy as np\n",
    "import requests\n",
    "#import config\n",
    "import json\n",
    "import time\n",
    "import datetime\n",
    "from pprint import pprint\n",
    "# from nba_api.stats.endpoints import leaguegamelog\n",
    "# from nba_api.stats.endpoints import boxscoresummaryv2\n",
    "import pandas\n",
    "import sqlite3"
   ]
  },
  {
   "cell_type": "code",
   "execution_count": 46,
   "metadata": {},
   "outputs": [],
   "source": [
    "## Connect to sqlite db\n",
    "conn = sqlite3.connect(\"../../NBAapi/NBAapi/app.db\")\n",
    "## Teams cheatsheet\n",
    "## Warriors NBA_Id: 1610612744, TeamId: 10\n",
    "## Celtics NBA_Id: 1610612738, TeamId: 2\n",
    "## Lakers NBA_Id: 1610612747, TeamId: 14\n",
    "TeamName = 'Celtics'\n",
    "c = conn.cursor()\n",
    "c.execute(\"SELECT TeamId, NBA_API_TeamId FROM Team WHERE Name = '\"+TeamName+\"'\")\n",
    "## Fetching team values from the table\n",
    "## Also sets all values to be used for insertion into Predicion/Summary\n",
    "teamDf = c.fetchone()\n",
    "TeamId = teamDf[0]\n",
    "NBA_API_TeamId = teamDf[1]\n",
    "Features = 6\n",
    "# print(TeamId)\n",
    "# print(NBA_API_TeamId)\n"
   ]
  },
  {
   "cell_type": "code",
   "execution_count": 47,
   "metadata": {},
   "outputs": [
    {
     "data": {
      "text/html": [
       "<div>\n",
       "<style scoped>\n",
       "    .dataframe tbody tr th:only-of-type {\n",
       "        vertical-align: middle;\n",
       "    }\n",
       "\n",
       "    .dataframe tbody tr th {\n",
       "        vertical-align: top;\n",
       "    }\n",
       "\n",
       "    .dataframe thead th {\n",
       "        text-align: right;\n",
       "    }\n",
       "</style>\n",
       "<table border=\"1\" class=\"dataframe\">\n",
       "  <thead>\n",
       "    <tr style=\"text-align: right;\">\n",
       "      <th></th>\n",
       "      <th>Points</th>\n",
       "      <th>FGPct</th>\n",
       "      <th>FTPct</th>\n",
       "      <th>FG3Pct</th>\n",
       "      <th>AST</th>\n",
       "      <th>REB</th>\n",
       "      <th>Win</th>\n",
       "    </tr>\n",
       "  </thead>\n",
       "  <tbody>\n",
       "    <tr>\n",
       "      <th>0</th>\n",
       "      <td>118</td>\n",
       "      <td>0.396</td>\n",
       "      <td>0.844</td>\n",
       "      <td>0.333</td>\n",
       "      <td>20</td>\n",
       "      <td>49</td>\n",
       "      <td>1</td>\n",
       "    </tr>\n",
       "    <tr>\n",
       "      <th>1</th>\n",
       "      <td>126</td>\n",
       "      <td>0.440</td>\n",
       "      <td>0.905</td>\n",
       "      <td>0.350</td>\n",
       "      <td>24</td>\n",
       "      <td>34</td>\n",
       "      <td>0</td>\n",
       "    </tr>\n",
       "    <tr>\n",
       "      <th>2</th>\n",
       "      <td>125</td>\n",
       "      <td>0.506</td>\n",
       "      <td>0.826</td>\n",
       "      <td>0.410</td>\n",
       "      <td>21</td>\n",
       "      <td>46</td>\n",
       "      <td>1</td>\n",
       "    </tr>\n",
       "    <tr>\n",
       "      <th>3</th>\n",
       "      <td>121</td>\n",
       "      <td>0.452</td>\n",
       "      <td>0.862</td>\n",
       "      <td>0.316</td>\n",
       "      <td>29</td>\n",
       "      <td>50</td>\n",
       "      <td>1</td>\n",
       "    </tr>\n",
       "    <tr>\n",
       "      <th>4</th>\n",
       "      <td>101</td>\n",
       "      <td>0.500</td>\n",
       "      <td>0.792</td>\n",
       "      <td>0.357</td>\n",
       "      <td>19</td>\n",
       "      <td>41</td>\n",
       "      <td>0</td>\n",
       "    </tr>\n",
       "  </tbody>\n",
       "</table>\n",
       "</div>"
      ],
      "text/plain": [
       "   Points  FGPct  FTPct  FG3Pct  AST  REB  Win\n",
       "0     118  0.396  0.844   0.333   20   49    1\n",
       "1     126  0.440  0.905   0.350   24   34    0\n",
       "2     125  0.506  0.826   0.410   21   46    1\n",
       "3     121  0.452  0.862   0.316   29   50    1\n",
       "4     101  0.500  0.792   0.357   19   41    0"
      ]
     },
     "execution_count": 47,
     "metadata": {},
     "output_type": "execute_result"
    }
   ],
   "source": [
    "\n",
    "## Load boxscore data into a DataFrame\n",
    "## First load data from Team playing from home\n",
    "home_games = \"SELECT PointsHome AS Points, FGPctHome AS FGPct, FTPctHome AS FTPct, FG3PctHome AS FG3Pct, ASTHome AS AST, REBHome AS REB, HomeTeamWin AS Win \"\n",
    "home_games += \"FROM GameBoxScore WHERE NBA_API_HomeTeamId = \"+str(NBA_API_TeamId)+\" ORDER BY NBA_API_GameId DESC\"\n",
    "df_home = pd.read_sql_query(home_games, conn)\n",
    "## Then load data from away games\n",
    "away_games = \"SELECT PointsAway AS Points, FGPctAway AS FGPct, FTPctAway AS FTPct, FG3PctAway AS FG3Pct, ASTAway AS AST, REBAway AS REB, AwayTeamWin AS Win \"\n",
    "away_games += \"FROM GameBoxScore WHERE NBA_API_AwayTeamId = \"+str(NBA_API_TeamId)+\" ORDER BY NBA_API_GameId DESC\"\n",
    "df_away = pd.read_sql_query(away_games, conn)\n",
    "## Resetting index for both dataframes, conca/join/merge would fail without this (duplicates).\n",
    "# df_home = df_home.loc[~df_home.index.duplicated(keep='first')]\n",
    "# df_away = df_away.loc[~df_away.index.duplicated(keep='first')]\n",
    "## Stack the DataFrames on top of each other\n",
    "## This one doesn't work;; df = df_home.concat(df_away, how='left')\n",
    "## Concat home and away games\n",
    "df = pd.concat([df_home, df_away])\n",
    "## May need to drop last column of a dataframe\n",
    "# df = df.iloc[: , :-1]\n",
    "## Resets dataframe index, SKlern may throw ValueError otherwise\n",
    "# df = df.reset_index()\n",
    "# df['Win'].to_numpy('int32')\n",
    "df.head()"
   ]
  },
  {
   "cell_type": "code",
   "execution_count": 48,
   "metadata": {},
   "outputs": [
    {
     "name": "stdout",
     "output_type": "stream",
     "text": [
      "(228, 6)\n"
     ]
    },
    {
     "data": {
      "text/html": [
       "<div>\n",
       "<style scoped>\n",
       "    .dataframe tbody tr th:only-of-type {\n",
       "        vertical-align: middle;\n",
       "    }\n",
       "\n",
       "    .dataframe tbody tr th {\n",
       "        vertical-align: top;\n",
       "    }\n",
       "\n",
       "    .dataframe thead th {\n",
       "        text-align: right;\n",
       "    }\n",
       "</style>\n",
       "<table border=\"1\" class=\"dataframe\">\n",
       "  <thead>\n",
       "    <tr style=\"text-align: right;\">\n",
       "      <th></th>\n",
       "      <th>Points</th>\n",
       "      <th>FGPct</th>\n",
       "      <th>FTPct</th>\n",
       "      <th>FG3Pct</th>\n",
       "      <th>AST</th>\n",
       "      <th>REB</th>\n",
       "    </tr>\n",
       "  </thead>\n",
       "  <tbody>\n",
       "    <tr>\n",
       "      <th>0</th>\n",
       "      <td>118</td>\n",
       "      <td>0.396</td>\n",
       "      <td>0.844</td>\n",
       "      <td>0.333</td>\n",
       "      <td>20</td>\n",
       "      <td>49</td>\n",
       "    </tr>\n",
       "    <tr>\n",
       "      <th>1</th>\n",
       "      <td>126</td>\n",
       "      <td>0.440</td>\n",
       "      <td>0.905</td>\n",
       "      <td>0.350</td>\n",
       "      <td>24</td>\n",
       "      <td>34</td>\n",
       "    </tr>\n",
       "    <tr>\n",
       "      <th>2</th>\n",
       "      <td>125</td>\n",
       "      <td>0.506</td>\n",
       "      <td>0.826</td>\n",
       "      <td>0.410</td>\n",
       "      <td>21</td>\n",
       "      <td>46</td>\n",
       "    </tr>\n",
       "    <tr>\n",
       "      <th>3</th>\n",
       "      <td>121</td>\n",
       "      <td>0.452</td>\n",
       "      <td>0.862</td>\n",
       "      <td>0.316</td>\n",
       "      <td>29</td>\n",
       "      <td>50</td>\n",
       "    </tr>\n",
       "    <tr>\n",
       "      <th>4</th>\n",
       "      <td>101</td>\n",
       "      <td>0.500</td>\n",
       "      <td>0.792</td>\n",
       "      <td>0.357</td>\n",
       "      <td>19</td>\n",
       "      <td>41</td>\n",
       "    </tr>\n",
       "  </tbody>\n",
       "</table>\n",
       "</div>"
      ],
      "text/plain": [
       "   Points  FGPct  FTPct  FG3Pct  AST  REB\n",
       "0     118  0.396  0.844   0.333   20   49\n",
       "1     126  0.440  0.905   0.350   24   34\n",
       "2     125  0.506  0.826   0.410   21   46\n",
       "3     121  0.452  0.862   0.316   29   50\n",
       "4     101  0.500  0.792   0.357   19   41"
      ]
     },
     "execution_count": 48,
     "metadata": {},
     "output_type": "execute_result"
    }
   ],
   "source": [
    "# conn.close()\n",
    "# grab every stat except the 'win' column as your X features\n",
    "X = df.drop('Win', axis=1)\n",
    "print(X.shape)\n",
    "X.head()"
   ]
  },
  {
   "cell_type": "code",
   "execution_count": 49,
   "metadata": {},
   "outputs": [
    {
     "data": {
      "text/plain": [
       "0    1\n",
       "1    0\n",
       "2    1\n",
       "3    1\n",
       "4    0\n",
       "Name: Win, dtype: int64"
      ]
     },
     "execution_count": 49,
     "metadata": {},
     "output_type": "execute_result"
    }
   ],
   "source": [
    "# Set our Wins/Ys\n",
    "y = df['Win']\n",
    "y.head()"
   ]
  },
  {
   "cell_type": "code",
   "execution_count": 50,
   "metadata": {},
   "outputs": [],
   "source": [
    "# Import training and scaling tools\n",
    "from sklearn.model_selection import train_test_split\n",
    "from sklearn.preprocessing import LabelEncoder, MinMaxScaler\n",
    "from tensorflow.keras.utils import to_categorical"
   ]
  },
  {
   "cell_type": "code",
   "execution_count": 51,
   "metadata": {},
   "outputs": [],
   "source": [
    "## Split your Xs and Ys (default split 72/25)\n",
    "X_train, X_test, y_train, y_test = train_test_split(X, y, random_state=42)"
   ]
  },
  {
   "cell_type": "code",
   "execution_count": 52,
   "metadata": {},
   "outputs": [],
   "source": [
    "## Scale X data to keep value magnitude similar and mitigate possible high variance \n",
    "X_scaler = MinMaxScaler().fit(X_train)\n",
    "X_train_scaled = X_scaler.transform(X_train)\n",
    "X_test_scaled = X_scaler.transform(X_test)"
   ]
  },
  {
   "cell_type": "markdown",
   "metadata": {},
   "source": [
    "<h1>Random Forest (using sklearn)</h1>"
   ]
  },
  {
   "cell_type": "code",
   "execution_count": 53,
   "metadata": {},
   "outputs": [
    {
     "data": {
      "text/plain": [
       "RandomForestClassifier(bootstrap=True, class_weight=None, criterion='gini',\n",
       "                       max_depth=None, max_features='auto', max_leaf_nodes=None,\n",
       "                       min_impurity_decrease=0.0, min_impurity_split=None,\n",
       "                       min_samples_leaf=1, min_samples_split=2,\n",
       "                       min_weight_fraction_leaf=0.0, n_estimators=200,\n",
       "                       n_jobs=None, oob_score=False, random_state=None,\n",
       "                       verbose=0, warm_start=False)"
      ]
     },
     "execution_count": 53,
     "metadata": {},
     "output_type": "execute_result"
    }
   ],
   "source": [
    "# Lets try 2 different RFC with 200 and 400 estimators, and select the best from both\n",
    "from sklearn.ensemble import RandomForestClassifier\n",
    "# Model definition for model #1\n",
    "modelRF1 = RandomForestClassifier(n_estimators=10)\n",
    "# Fit our training data\n",
    "modelRF1.fit(X_train_scaled, y_train)\n",
    "# Model definition for model #1\n",
    "modelRF2 = RandomForestClassifier(n_estimators=200)\n",
    "# Fit model #2\n",
    "modelRF2.fit(X_train_scaled, y_train)"
   ]
  },
  {
   "cell_type": "code",
   "execution_count": 54,
   "metadata": {},
   "outputs": [
    {
     "name": "stdout",
     "output_type": "stream",
     "text": [
      "Model #1 Training score: 100.0%\n",
      "Model #1 Test score: 71.93%\n",
      "Model #2 Training score: 100.0%\n",
      "Model #2 Test score: 80.7%\n",
      "Selected model #2\n"
     ]
    }
   ],
   "source": [
    "testScore1 = modelRF1.score(X_test_scaled, y_test)\n",
    "testScore2 = modelRF2.score(X_test_scaled, y_test)\n",
    "# Check RFC #1 results\n",
    "print(f\"Model #1 Training score: {round(modelRF1.score(X_train_scaled, y_train)*100,2)}%\")\n",
    "print(f\"Model #1 Test score: {round(testScore1*100,2)}%\")\n",
    "# Check RFC #2 results\n",
    "print(f\"Model #2 Training score: {round(modelRF2.score(X_train_scaled, y_train)*100,2)}%\")\n",
    "print(f\"Model #2 Test score: {round(testScore2*100,2)}%\")\n",
    "#Select best model\n",
    "if testScore1 >= testScore2:\n",
    "    modelRF = modelRF1\n",
    "    print('Selected model #1')\n",
    "else:\n",
    "    modelRF = modelRF2\n",
    "    print('Selected model #2')\n",
    "bestScore = modelRF.score(X_test_scaled, y_test)"
   ]
  },
  {
   "cell_type": "code",
   "execution_count": 55,
   "metadata": {},
   "outputs": [
    {
     "name": "stdout",
     "output_type": "stream",
     "text": [
      "7 total Predictions:   [1 1 1 1 0 1 0]\n",
      "7 total Actual results: [1, 1, 1, 1, 0, 1, 1]\n"
     ]
    }
   ],
   "source": [
    "## Dump predictions into a LabelEncoder\n",
    "## Compare predictions against actual game results\n",
    "result_encoder = LabelEncoder()\n",
    "result_encoder.fit(y_train)\n",
    "encoded_test_results = modelRF.predict(X_test_scaled)\n",
    "results_labels = result_encoder.inverse_transform(encoded_test_results)\n",
    "print(f\"7 total Predictions:   {results_labels[:7]}\")\n",
    "print(f\"7 total Actual results: {y_test[:7].tolist()}\")"
   ]
  },
  {
   "cell_type": "markdown",
   "metadata": {},
   "source": [
    "<h3>Random Forrest gets us to 75% accuracy predicting win/loss based on team stats per game - not bad at all!</h3>"
   ]
  },
  {
   "cell_type": "markdown",
   "metadata": {},
   "source": [
    "<h1>Neural network (using keras)</h1>"
   ]
  },
  {
   "cell_type": "code",
   "execution_count": 56,
   "metadata": {},
   "outputs": [],
   "source": [
    "label_encoder = LabelEncoder()\n",
    "label_encoder.fit(y_train)\n",
    "encoded_y_train = label_encoder.transform(y_train)\n",
    "encoded_y_test = label_encoder.transform(y_test)\n",
    "## Convert Ys to one-hot encode\n",
    "y_train_categorical = to_categorical(encoded_y_train)\n",
    "y_test_categorical = to_categorical(encoded_y_test)"
   ]
  },
  {
   "cell_type": "code",
   "execution_count": 57,
   "metadata": {},
   "outputs": [],
   "source": [
    "## Dependencies for Sequential model and Dense for the hidden layers\n",
    "from tensorflow.keras.models import Sequential\n",
    "from tensorflow.keras.layers import Dense"
   ]
  },
  {
   "cell_type": "code",
   "execution_count": 58,
   "metadata": {},
   "outputs": [],
   "source": [
    "# Fill our model with Dense layers, using Relu activation (not used at this moment but it allows backpropagation)\n",
    "# input_dim set to 6 because we have 6 X features\n",
    "# Last layer set to softmax (we want a soft result, get it?) as we look for binary classification \n",
    "model = Sequential()\n",
    "model.add(Dense(units=100, activation='relu', input_dim=6))\n",
    "model.add(Dense(units=100, activation='relu'))\n",
    "model.add(Dense(units=100, activation='relu'))\n",
    "model.add(Dense(units=2, activation='softmax'))"
   ]
  },
  {
   "cell_type": "code",
   "execution_count": 59,
   "metadata": {},
   "outputs": [],
   "source": [
    "## Fit model, adam optimizer is straightforward to implement with MLnet (see roadmap)\n",
    "model.compile(optimizer='adam',\n",
    "              loss='categorical_crossentropy',\n",
    "              metrics=['accuracy'])"
   ]
  },
  {
   "cell_type": "code",
   "execution_count": 60,
   "metadata": {},
   "outputs": [
    {
     "name": "stdout",
     "output_type": "stream",
     "text": [
      "Model: \"sequential_2\"\n",
      "_________________________________________________________________\n",
      "Layer (type)                 Output Shape              Param #   \n",
      "=================================================================\n",
      "dense_8 (Dense)              (None, 100)               700       \n",
      "_________________________________________________________________\n",
      "dense_9 (Dense)              (None, 100)               10100     \n",
      "_________________________________________________________________\n",
      "dense_10 (Dense)             (None, 100)               10100     \n",
      "_________________________________________________________________\n",
      "dense_11 (Dense)             (None, 2)                 202       \n",
      "=================================================================\n",
      "Total params: 21,102\n",
      "Trainable params: 21,102\n",
      "Non-trainable params: 0\n",
      "_________________________________________________________________\n"
     ]
    }
   ],
   "source": [
    "## Summary, very important\n",
    "model.summary()"
   ]
  },
  {
   "cell_type": "code",
   "execution_count": 61,
   "metadata": {},
   "outputs": [
    {
     "name": "stdout",
     "output_type": "stream",
     "text": [
      "Epoch 1/100\n",
      "171/171 - 0s - loss: 0.6820 - acc: 0.5263\n",
      "Epoch 2/100\n",
      "171/171 - 0s - loss: 0.6668 - acc: 0.5205\n",
      "Epoch 3/100\n",
      "171/171 - 0s - loss: 0.6620 - acc: 0.5205\n",
      "Epoch 4/100\n",
      "171/171 - 0s - loss: 0.6492 - acc: 0.5380\n",
      "Epoch 5/100\n",
      "171/171 - 0s - loss: 0.6402 - acc: 0.5906\n",
      "Epoch 6/100\n",
      "171/171 - 0s - loss: 0.6245 - acc: 0.6725\n",
      "Epoch 7/100\n",
      "171/171 - 0s - loss: 0.6146 - acc: 0.7018\n",
      "Epoch 8/100\n",
      "171/171 - 0s - loss: 0.5948 - acc: 0.7193\n",
      "Epoch 9/100\n",
      "171/171 - 0s - loss: 0.5913 - acc: 0.6784\n",
      "Epoch 10/100\n",
      "171/171 - 0s - loss: 0.5783 - acc: 0.7135\n",
      "Epoch 11/100\n",
      "171/171 - 0s - loss: 0.5621 - acc: 0.7602\n",
      "Epoch 12/100\n",
      "171/171 - 0s - loss: 0.5450 - acc: 0.7427\n",
      "Epoch 13/100\n",
      "171/171 - 0s - loss: 0.5348 - acc: 0.7368\n",
      "Epoch 14/100\n",
      "171/171 - 0s - loss: 0.5271 - acc: 0.7427\n",
      "Epoch 15/100\n",
      "171/171 - 0s - loss: 0.5126 - acc: 0.7544\n",
      "Epoch 16/100\n",
      "171/171 - 0s - loss: 0.4982 - acc: 0.7719\n",
      "Epoch 17/100\n",
      "171/171 - 0s - loss: 0.4894 - acc: 0.7485\n",
      "Epoch 18/100\n",
      "171/171 - 0s - loss: 0.5035 - acc: 0.7485\n",
      "Epoch 19/100\n",
      "171/171 - 0s - loss: 0.4662 - acc: 0.8129\n",
      "Epoch 20/100\n",
      "171/171 - 0s - loss: 0.4506 - acc: 0.7895\n",
      "Epoch 21/100\n",
      "171/171 - 0s - loss: 0.4614 - acc: 0.7836\n",
      "Epoch 22/100\n",
      "171/171 - 0s - loss: 0.4222 - acc: 0.8246\n",
      "Epoch 23/100\n",
      "171/171 - 0s - loss: 0.4107 - acc: 0.8246\n",
      "Epoch 24/100\n",
      "171/171 - 0s - loss: 0.4147 - acc: 0.8012\n",
      "Epoch 25/100\n",
      "171/171 - 0s - loss: 0.4221 - acc: 0.8070\n",
      "Epoch 26/100\n",
      "171/171 - 0s - loss: 0.3891 - acc: 0.8129\n",
      "Epoch 27/100\n",
      "171/171 - 0s - loss: 0.3776 - acc: 0.8246\n",
      "Epoch 28/100\n",
      "171/171 - 0s - loss: 0.3913 - acc: 0.8129\n",
      "Epoch 29/100\n",
      "171/171 - 0s - loss: 0.3716 - acc: 0.8363\n",
      "Epoch 30/100\n",
      "171/171 - 0s - loss: 0.3792 - acc: 0.8129\n",
      "Epoch 31/100\n",
      "171/171 - 0s - loss: 0.4037 - acc: 0.8187\n",
      "Epoch 32/100\n",
      "171/171 - 0s - loss: 0.3856 - acc: 0.8012\n",
      "Epoch 33/100\n",
      "171/171 - 0s - loss: 0.3687 - acc: 0.8480\n",
      "Epoch 34/100\n",
      "171/171 - 0s - loss: 0.3632 - acc: 0.8304\n",
      "Epoch 35/100\n",
      "171/171 - 0s - loss: 0.3536 - acc: 0.8363\n",
      "Epoch 36/100\n",
      "171/171 - 0s - loss: 0.3439 - acc: 0.8363\n",
      "Epoch 37/100\n",
      "171/171 - 0s - loss: 0.3389 - acc: 0.8421\n",
      "Epoch 38/100\n",
      "171/171 - 0s - loss: 0.3301 - acc: 0.8655\n",
      "Epoch 39/100\n",
      "171/171 - 0s - loss: 0.3245 - acc: 0.8655\n",
      "Epoch 40/100\n",
      "171/171 - 0s - loss: 0.3198 - acc: 0.8713\n",
      "Epoch 41/100\n",
      "171/171 - 0s - loss: 0.3223 - acc: 0.8421\n",
      "Epoch 42/100\n",
      "171/171 - 0s - loss: 0.3187 - acc: 0.8772\n",
      "Epoch 43/100\n",
      "171/171 - 0s - loss: 0.3144 - acc: 0.8538\n",
      "Epoch 44/100\n",
      "171/171 - 0s - loss: 0.3163 - acc: 0.8772\n",
      "Epoch 45/100\n",
      "171/171 - 0s - loss: 0.3293 - acc: 0.8538\n",
      "Epoch 46/100\n",
      "171/171 - 0s - loss: 0.3185 - acc: 0.8772\n",
      "Epoch 47/100\n",
      "171/171 - 0s - loss: 0.3492 - acc: 0.8304\n",
      "Epoch 48/100\n",
      "171/171 - 0s - loss: 0.3805 - acc: 0.8129\n",
      "Epoch 49/100\n",
      "171/171 - 0s - loss: 0.3135 - acc: 0.8421\n",
      "Epoch 50/100\n",
      "171/171 - 0s - loss: 0.3273 - acc: 0.8538\n",
      "Epoch 51/100\n",
      "171/171 - 0s - loss: 0.3142 - acc: 0.8713\n",
      "Epoch 52/100\n",
      "171/171 - 0s - loss: 0.3206 - acc: 0.8713\n",
      "Epoch 53/100\n",
      "171/171 - 0s - loss: 0.3102 - acc: 0.8713\n",
      "Epoch 54/100\n",
      "171/171 - 0s - loss: 0.2947 - acc: 0.8772\n",
      "Epoch 55/100\n",
      "171/171 - 0s - loss: 0.2923 - acc: 0.8889\n",
      "Epoch 56/100\n",
      "171/171 - 0s - loss: 0.2885 - acc: 0.8830\n",
      "Epoch 57/100\n",
      "171/171 - 0s - loss: 0.2889 - acc: 0.8830\n",
      "Epoch 58/100\n",
      "171/171 - 0s - loss: 0.2913 - acc: 0.8889\n",
      "Epoch 59/100\n",
      "171/171 - 0s - loss: 0.2901 - acc: 0.8772\n",
      "Epoch 60/100\n",
      "171/171 - 0s - loss: 0.3197 - acc: 0.8772\n",
      "Epoch 61/100\n",
      "171/171 - 0s - loss: 0.3037 - acc: 0.8830\n",
      "Epoch 62/100\n",
      "171/171 - 0s - loss: 0.3016 - acc: 0.8713\n",
      "Epoch 63/100\n",
      "171/171 - 0s - loss: 0.2924 - acc: 0.8889\n",
      "Epoch 64/100\n",
      "171/171 - 0s - loss: 0.2803 - acc: 0.8889\n",
      "Epoch 65/100\n",
      "171/171 - 0s - loss: 0.2748 - acc: 0.8830\n",
      "Epoch 66/100\n",
      "171/171 - 0s - loss: 0.2793 - acc: 0.8947\n",
      "Epoch 67/100\n",
      "171/171 - 0s - loss: 0.2973 - acc: 0.8596\n",
      "Epoch 68/100\n",
      "171/171 - 0s - loss: 0.2752 - acc: 0.8889\n",
      "Epoch 69/100\n",
      "171/171 - 0s - loss: 0.2797 - acc: 0.8889\n",
      "Epoch 70/100\n",
      "171/171 - 0s - loss: 0.2748 - acc: 0.8889\n",
      "Epoch 71/100\n",
      "171/171 - 0s - loss: 0.2666 - acc: 0.8830\n",
      "Epoch 72/100\n",
      "171/171 - 0s - loss: 0.2742 - acc: 0.9006\n",
      "Epoch 73/100\n",
      "171/171 - 0s - loss: 0.2794 - acc: 0.8947\n",
      "Epoch 74/100\n",
      "171/171 - 0s - loss: 0.3021 - acc: 0.8655\n",
      "Epoch 75/100\n",
      "171/171 - 0s - loss: 0.2626 - acc: 0.8830\n",
      "Epoch 76/100\n",
      "171/171 - 0s - loss: 0.2588 - acc: 0.8889\n",
      "Epoch 77/100\n",
      "171/171 - 0s - loss: 0.2588 - acc: 0.8889\n",
      "Epoch 78/100\n",
      "171/171 - 0s - loss: 0.2563 - acc: 0.8947\n",
      "Epoch 79/100\n",
      "171/171 - 0s - loss: 0.2534 - acc: 0.8947\n",
      "Epoch 80/100\n",
      "171/171 - 0s - loss: 0.2599 - acc: 0.8947\n",
      "Epoch 81/100\n",
      "171/171 - 0s - loss: 0.2565 - acc: 0.9064\n",
      "Epoch 82/100\n",
      "171/171 - 0s - loss: 0.2781 - acc: 0.8713\n",
      "Epoch 83/100\n",
      "171/171 - 0s - loss: 0.2528 - acc: 0.8889\n",
      "Epoch 84/100\n",
      "171/171 - 0s - loss: 0.2480 - acc: 0.8947\n",
      "Epoch 85/100\n",
      "171/171 - 0s - loss: 0.2486 - acc: 0.9006\n",
      "Epoch 86/100\n",
      "171/171 - 0s - loss: 0.2422 - acc: 0.9064\n",
      "Epoch 87/100\n",
      "171/171 - 0s - loss: 0.2460 - acc: 0.9064\n",
      "Epoch 88/100\n",
      "171/171 - 0s - loss: 0.2617 - acc: 0.8947\n",
      "Epoch 89/100\n",
      "171/171 - 0s - loss: 0.2395 - acc: 0.9006\n",
      "Epoch 90/100\n",
      "171/171 - 0s - loss: 0.2471 - acc: 0.9064\n",
      "Epoch 91/100\n",
      "171/171 - 0s - loss: 0.2435 - acc: 0.9064\n",
      "Epoch 92/100\n",
      "171/171 - 0s - loss: 0.2393 - acc: 0.9006\n",
      "Epoch 93/100\n",
      "171/171 - 0s - loss: 0.2447 - acc: 0.9181\n",
      "Epoch 94/100\n",
      "171/171 - 0s - loss: 0.2331 - acc: 0.9181\n",
      "Epoch 95/100\n",
      "171/171 - 0s - loss: 0.2424 - acc: 0.9006\n",
      "Epoch 96/100\n",
      "171/171 - 0s - loss: 0.2496 - acc: 0.9064\n",
      "Epoch 97/100\n",
      "171/171 - 0s - loss: 0.2332 - acc: 0.9006\n",
      "Epoch 98/100\n",
      "171/171 - 0s - loss: 0.2317 - acc: 0.9123\n",
      "Epoch 99/100\n",
      "171/171 - 0s - loss: 0.2349 - acc: 0.9181\n",
      "Epoch 100/100\n",
      "171/171 - 0s - loss: 0.2403 - acc: 0.9181\n"
     ]
    },
    {
     "data": {
      "text/plain": [
       "<tensorflow.python.keras.callbacks.History at 0x7fdf52e11550>"
      ]
     },
     "execution_count": 61,
     "metadata": {},
     "output_type": "execute_result"
    }
   ],
   "source": [
    "## Training time, set to 100 epochs\n",
    "model.fit(\n",
    "    X_train_scaled,\n",
    "    y_train_categorical,\n",
    "    epochs=100,\n",
    "    shuffle=True,\n",
    "    verbose=2\n",
    ")"
   ]
  },
  {
   "cell_type": "code",
   "execution_count": 62,
   "metadata": {},
   "outputs": [
    {
     "name": "stdout",
     "output_type": "stream",
     "text": [
      "57/57 - 0s - loss: 0.5392 - acc: 0.8070\n",
      "Neural Network - Loss: 0.5391923126421476, Accuracy: 0.8070175647735596\n"
     ]
    }
   ],
   "source": [
    "## Check results (drum roll)\n",
    "modelLoss, modelAccuracy = model.evaluate(\n",
    "    X_test_scaled, y_test_categorical, verbose=2)\n",
    "print(\n",
    "    f\"Neural Network - Loss: {modelLoss}, Accuracy: {modelAccuracy}\")"
   ]
  },
  {
   "cell_type": "code",
   "execution_count": 63,
   "metadata": {},
   "outputs": [],
   "source": [
    "## Compare predictions against actual game results\n",
    "encoded_predictions = model.predict_classes(X_test_scaled)\n",
    "prediction_labels = label_encoder.inverse_transform(encoded_predictions)"
   ]
  },
  {
   "cell_type": "code",
   "execution_count": 64,
   "metadata": {},
   "outputs": [
    {
     "name": "stdout",
     "output_type": "stream",
     "text": [
      "7 total Predictions:   [1 1 1 1 0 1 1]\n",
      "7 total Actual results: [1, 1, 1, 1, 0, 1, 1]\n"
     ]
    }
   ],
   "source": [
    "print(f\"7 total Predictions:   {prediction_labels[:7]}\")\n",
    "print(f\"7 total Actual results: {y_test[:7].tolist()}\")"
   ]
  },
  {
   "cell_type": "code",
   "execution_count": 65,
   "metadata": {},
   "outputs": [
    {
     "name": "stdout",
     "output_type": "stream",
     "text": [
      "All data inserted to SeriesPredictionSummaryId: 5\n"
     ]
    }
   ],
   "source": [
    "## ADD PREDICTIONS TO SQLITE DB\n",
    "import sqlite3\n",
    "from sqlite3 import Error\n",
    "import pandas\n",
    "from datetime import datetime\n",
    "\n",
    "def create_connection(db_file):\n",
    "    \"\"\" create a database connection to the SQLite database\n",
    "        specified by the db_file\n",
    "    :param db_file: database file\n",
    "    :return: Connection object or None\n",
    "    \"\"\"\n",
    "    conn = None\n",
    "    try:\n",
    "        conn = sqlite3.connect(db_file)\n",
    "    except Error as e:\n",
    "        print(e)\n",
    "\n",
    "    return conn\n",
    "\n",
    "def insert_predictionsummary(conn, summary):\n",
    "    \"\"\"\n",
    "    Inserts Prediction Summary\n",
    "    \"\"\"\n",
    "    sql = ''' INSERT INTO SeriesPredictionSummary\n",
    "              (DateAdded, Features, Loss, Accuracy, Recall, TrainSize, TestSize, Epochs, Technique, Comments, TeamId, NBA_API_TeamId,Team)\n",
    "              VALUES(?,?,?,?,?,?,?,?,?,?,?,?,?) '''\n",
    "    cur = conn.cursor()\n",
    "    cur.execute(sql, summary)\n",
    "    conn.commit()\n",
    "    return cur.lastrowid\n",
    "    \n",
    "def insert_predictions(conn, prediction):\n",
    "    \"\"\"\n",
    "    Inserts Single Prediction, detail of Summary\n",
    "    \"\"\"\n",
    "    sql = ''' INSERT INTO SinglePrediction\n",
    "              (TeamId, NBA_API_TeamId, Label, Win, SeriesPredictionSummaryId)\n",
    "              VALUES(?,?,?,?,?)'''\n",
    "    cur = conn.cursor()\n",
    "    cur.execute(sql, prediction)\n",
    "    conn.commit()\n",
    "\n",
    "def main():\n",
    "    # database = \"../../NBAapi/Persistence/app.db\"\n",
    "    database = \"../../NBAapi/NBAapi/app.db\"\n",
    "    # create a database connection\n",
    "    conn = create_connection(database)\n",
    "    with conn:\n",
    "        seriesId = insert_predictionsummary(conn, (datetime.now(), 6, modelLoss, modelAccuracy.astype(str), 0, X_train.shape[0], X_test.shape[0], 100, \"CNN\", \"No comments\", TeamId, NBA_API_TeamId,TeamName))\n",
    "        for x in prediction_labels[:7]:\n",
    "            insert_predictions(conn, (TeamId, NBA_API_TeamId, '', x.astype(str), seriesId))\n",
    "    print(f'All data inserted to SeriesPredictionSummaryId: {seriesId}')\n",
    "    conn.close()\n",
    "if __name__ == '__main__':\n",
    "    main()"
   ]
  }
 ],
 "metadata": {
  "interpreter": {
   "hash": "6f05f22771f5bd24b6f38cee58b7867257e45c4399730d217d6c6970a9e11a53"
  },
  "kernelspec": {
   "display_name": "Python 3.7.10 ('MLenvA')",
   "language": "python",
   "name": "python3"
  },
  "language_info": {
   "codemirror_mode": {
    "name": "ipython",
    "version": 3
   },
   "file_extension": ".py",
   "mimetype": "text/x-python",
   "name": "python",
   "nbconvert_exporter": "python",
   "pygments_lexer": "ipython3",
   "version": "3.7.10"
  },
  "orig_nbformat": 4
 },
 "nbformat": 4,
 "nbformat_minor": 2
}
